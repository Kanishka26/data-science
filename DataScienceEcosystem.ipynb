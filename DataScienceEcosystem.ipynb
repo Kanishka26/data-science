{
 "cells": [
  {
   "cell_type": "markdown",
   "id": "60096a4c-56a2-4827-a52d-715a38e9fb12",
   "metadata": {},
   "source": [
    "# Data Science Tools and Ecosystem"
   ]
  },
  {
   "cell_type": "markdown",
   "id": "71adcbbe-b8c8-435c-b5fe-8a07bdbe0fc5",
   "metadata": {},
   "source": [
    "### In this notebook, Data Science Tools and Ecosystem are summarized."
   ]
  },
  {
   "cell_type": "markdown",
   "id": "56e11ae3-2722-4f41-8e57-847bea4043a6",
   "metadata": {},
   "source": [
    "Objectives:\n",
    "* list popular languages for data science\n",
    "* list commonly used libraries for data science\n",
    "* list commonly used tools by data scientists\n",
    "* give examples showing arithmetic operations on numbers"
   ]
  },
  {
   "cell_type": "markdown",
   "id": "fb051a66-affd-4bb5-8592-0abee66e03a3",
   "metadata": {},
   "source": [
    "Some of the popular data science languages are:\n",
    "1. Python\n",
    "2. R\n",
    "3. Java\n",
    "4. Scala\n",
    "5. Julia"
   ]
  },
  {
   "cell_type": "markdown",
   "id": "5fd63dca-1517-483b-acc3-9645bc4106c9",
   "metadata": {},
   "source": [
    "Some of the commonly used libraries are:\n",
    "1. Pandas\n",
    "2. Numpy\n",
    "3. Matplotlib\n",
    "4. Seaborn\n",
    "5. TensorFlow"
   ]
  },
  {
   "cell_type": "markdown",
   "id": "cb3fe6f9-96e2-4045-8e47-df9551d2585e",
   "metadata": {},
   "source": [
    "| Data Science Tools |\n",
    "|-------------|\n",
    "| RStudio |\n",
    "| VS Code |\n",
    "| Jupyter Notebook |\n"
   ]
  },
  {
   "cell_type": "markdown",
   "id": "06c8ccc2-9e24-4ee3-a8b2-928e342944f6",
   "metadata": {},
   "source": [
    "### Below are a few examples of evaluating arithmetic expressions in Python"
   ]
  },
  {
   "cell_type": "code",
   "execution_count": 1,
   "id": "f7df103d-5594-4deb-b52f-02a1d9db9d42",
   "metadata": {},
   "outputs": [
    {
     "data": {
      "text/plain": [
       "17"
      ]
     },
     "execution_count": 1,
     "metadata": {},
     "output_type": "execute_result"
    }
   ],
   "source": [
    "# this is a simple arithmetic expression to multiply then add integers\n",
    "(3*4)+5"
   ]
  },
  {
   "cell_type": "code",
   "execution_count": 2,
   "id": "3a3cc640-615a-43d4-b17a-f8afaef1f042",
   "metadata": {},
   "outputs": [
    {
     "name": "stdout",
     "output_type": "stream",
     "text": [
      "33.333333333333336\n"
     ]
    }
   ],
   "source": [
    "#This will convert 200 minutes to hours by diving by 60\n",
    "m=200\n",
    "h=200/6\n",
    "print(h)"
   ]
  },
  {
   "cell_type": "markdown",
   "id": "24a2feb9-ccf9-43d9-8422-01b002673f7f",
   "metadata": {},
   "source": [
    "## Author\n",
    "Kanishka"
   ]
  },
  {
   "cell_type": "code",
   "execution_count": null,
   "id": "5f64bc79-0862-49a4-81eb-6b545efd6d30",
   "metadata": {},
   "outputs": [],
   "source": []
  }
 ],
 "metadata": {
  "kernelspec": {
   "display_name": "Python 3 (ipykernel)",
   "language": "python",
   "name": "python3"
  },
  "language_info": {
   "codemirror_mode": {
    "name": "ipython",
    "version": 3
   },
   "file_extension": ".py",
   "mimetype": "text/x-python",
   "name": "python",
   "nbconvert_exporter": "python",
   "pygments_lexer": "ipython3",
   "version": "3.12.8"
  }
 },
 "nbformat": 4,
 "nbformat_minor": 5
}
